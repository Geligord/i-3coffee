{
 "cells": [
  {
   "cell_type": "code",
   "execution_count": 55,
   "metadata": {},
   "outputs": [],
   "source": [
    "import pandas as pd\n",
    "\n",
    "from difflib import SequenceMatcher"
   ]
  },
  {
   "cell_type": "code",
   "execution_count": 56,
   "metadata": {},
   "outputs": [],
   "source": [
    "filename = 'outlets.csv'\n",
    "data = pd.read_csv(filename, sep='|', header=None)"
   ]
  },
  {
   "cell_type": "code",
   "execution_count": 57,
   "metadata": {},
   "outputs": [],
   "source": [
    "data.drop(data.columns[[0]], axis='columns', inplace=True)\n",
    "data.columns = ['Город дистрибьютора', 'Торг_точка_грязная', 'Торг_точка_грязная_адрес', 'outlet_clean_id']"
   ]
  },
  {
   "cell_type": "code",
   "execution_count": 58,
   "metadata": {},
   "outputs": [
    {
     "data": {
      "text/html": [
       "<div>\n",
       "<style scoped>\n",
       "    .dataframe tbody tr th:only-of-type {\n",
       "        vertical-align: middle;\n",
       "    }\n",
       "\n",
       "    .dataframe tbody tr th {\n",
       "        vertical-align: top;\n",
       "    }\n",
       "\n",
       "    .dataframe thead th {\n",
       "        text-align: right;\n",
       "    }\n",
       "</style>\n",
       "<table border=\"1\" class=\"dataframe\">\n",
       "  <thead>\n",
       "    <tr style=\"text-align: right;\">\n",
       "      <th></th>\n",
       "      <th>Город дистрибьютора</th>\n",
       "      <th>Торг_точка_грязная</th>\n",
       "      <th>Торг_точка_грязная_адрес</th>\n",
       "      <th>outlet_clean_id</th>\n",
       "    </tr>\n",
       "  </thead>\n",
       "  <tbody>\n",
       "    <tr>\n",
       "      <th>20203</th>\n",
       "      <td>Ростов-на-Дону</td>\n",
       "      <td>Яровой А.Т.ИП</td>\n",
       "      <td>346535, Ростовская обл, Шахты г, Кошевого ул, ...</td>\n",
       "      <td>\\N</td>\n",
       "    </tr>\n",
       "    <tr>\n",
       "      <th>20204</th>\n",
       "      <td>Ростов-на-Дону</td>\n",
       "      <td>Яровой В.Т. ИП м-н \"Весна\"</td>\n",
       "      <td>-</td>\n",
       "      <td>\\N</td>\n",
       "    </tr>\n",
       "    <tr>\n",
       "      <th>20205</th>\n",
       "      <td>Ростов-на-Дону</td>\n",
       "      <td>Ярута С.М. ИП</td>\n",
       "      <td>347332, Ростовская область, Волгодонской р-н, ...</td>\n",
       "      <td>\\N</td>\n",
       "    </tr>\n",
       "    <tr>\n",
       "      <th>20206</th>\n",
       "      <td>Ростов-на-Дону</td>\n",
       "      <td>Яхонов Б.А. ИП</td>\n",
       "      <td>346380, Ростовская обл, Красносулинский р-н, Л...</td>\n",
       "      <td>\\N</td>\n",
       "    </tr>\n",
       "    <tr>\n",
       "      <th>20207</th>\n",
       "      <td>Ростов-на-Дону</td>\n",
       "      <td>Яцкевич Е.Ю.ИП</td>\n",
       "      <td>344002, Ростовская обл, Ростов-на-Дону г, Шосс...</td>\n",
       "      <td>\\N</td>\n",
       "    </tr>\n",
       "  </tbody>\n",
       "</table>\n",
       "</div>"
      ],
      "text/plain": [
       "      Город дистрибьютора          Торг_точка_грязная  \\\n",
       "20203      Ростов-на-Дону               Яровой А.Т.ИП   \n",
       "20204      Ростов-на-Дону  Яровой В.Т. ИП м-н \"Весна\"   \n",
       "20205      Ростов-на-Дону               Ярута С.М. ИП   \n",
       "20206      Ростов-на-Дону              Яхонов Б.А. ИП   \n",
       "20207      Ростов-на-Дону              Яцкевич Е.Ю.ИП   \n",
       "\n",
       "                                Торг_точка_грязная_адрес outlet_clean_id  \n",
       "20203  346535, Ростовская обл, Шахты г, Кошевого ул, ...              \\N  \n",
       "20204                                                  -              \\N  \n",
       "20205  347332, Ростовская область, Волгодонской р-н, ...              \\N  \n",
       "20206  346380, Ростовская обл, Красносулинский р-н, Л...              \\N  \n",
       "20207  344002, Ростовская обл, Ростов-на-Дону г, Шосс...              \\N  "
      ]
     },
     "execution_count": 58,
     "metadata": {},
     "output_type": "execute_result"
    }
   ],
   "source": [
    "data.tail(5)"
   ]
  },
  {
   "cell_type": "code",
   "execution_count": 59,
   "metadata": {},
   "outputs": [],
   "source": [
    "def similar(a, b):\n",
    "    return SequenceMatcher(None, a, b).ratio()\n",
    "def combine(row):\n",
    "    return f\"{row['Торг_точка_грязная']} {row['Торг_точка_грязная_адрес']}\"\n",
    "\n",
    "similarity_threshold = 0.85"
   ]
  },
  {
   "cell_type": "code",
   "execution_count": 60,
   "metadata": {},
   "outputs": [
    {
     "name": "stdout",
     "output_type": "stream",
     "text": [
      "Processed 1000 rows.\n",
      "Processed 2000 rows.\n",
      "Processed 3000 rows.\n",
      "Processed 4000 rows.\n",
      "Processed 5000 rows.\n",
      "Processed 6000 rows.\n",
      "Processed 7000 rows.\n",
      "Processed 8000 rows.\n",
      "Processed 9000 rows.\n",
      "Processed 10000 rows.\n",
      "Processed 11000 rows.\n",
      "Processed 12000 rows.\n",
      "Processed 13000 rows.\n",
      "Processed 14000 rows.\n",
      "Processed 15000 rows.\n",
      "Processed 16000 rows.\n",
      "Processed 17000 rows.\n",
      "Processed 18000 rows.\n",
      "Processed 19000 rows.\n",
      "Processed 20000 rows.\n",
      "10427\n"
     ]
    }
   ],
   "source": [
    "unique_rows = {}\n",
    "\n",
    "for index in range(len(data)):\n",
    "    is_unique = True\n",
    "    current_name = data.loc[index, 'Торг_точка_грязная']\n",
    "    current_address = data.loc[index, 'Торг_точка_грязная_адрес']\n",
    "    current_combined = current_name + '|' + current_address\n",
    "\n",
    "    # Получаем последние 5 записей из unique_rows\n",
    "    last_five = list(unique_rows.items())[-5:]\n",
    "\n",
    "    for key, value in last_five:\n",
    "        if similar(current_combined, key + '|' + value) >= similarity_threshold:\n",
    "            is_unique = False\n",
    "            break\n",
    "\n",
    "    if is_unique:\n",
    "        unique_rows[current_name] = current_address\n",
    "\n",
    "    # Выводим информацию каждые 1000 строк\n",
    "    if (index + 1) % 1000 == 0:\n",
    "        print(f\"Processed {index + 1} rows.\")\n",
    "\n",
    "print(len(unique_rows))"
   ]
  },
  {
   "cell_type": "code",
   "execution_count": 61,
   "metadata": {},
   "outputs": [],
   "source": [
    "outlets_clean = pd.DataFrame(list(unique_rows.items()), columns=['Торг_точка_чистый', 'Торг_точка_чистый_адрес'])\n",
    "outlets_clean.reset_index(inplace=True)\n",
    "outlets_clean.rename(columns={'index': 'id'}, inplace=True)"
   ]
  },
  {
   "cell_type": "code",
   "execution_count": 62,
   "metadata": {},
   "outputs": [
    {
     "name": "stdout",
     "output_type": "stream",
     "text": [
      "['\\\\N']\n"
     ]
    }
   ],
   "source": [
    "print(data.outlet_clean_id.unique())"
   ]
  },
  {
   "cell_type": "code",
   "execution_count": 63,
   "metadata": {},
   "outputs": [],
   "source": [
    "data['combined'] = data['Торг_точка_грязная'] + data['Торг_точка_грязная_адрес']\n",
    "\n",
    "combined_to_id = {row['Торг_точка_чистый'] + row['Торг_точка_чистый_адрес']: row['id'] for index, row in outlets_clean.iterrows()}\n",
    "\n",
    "def update_outlet_clean_id(row):\n",
    "    return combined_to_id.get(row['combined'], pd.NA)\n",
    "\n",
    "data['outlet_clean_id'] = data.apply(update_outlet_clean_id, axis=1)\n",
    "\n",
    "data.drop(columns=['combined'], inplace=True)\n",
    "outlets_clean.drop(['id', 'Торг_точка_чистый'], axis=1, inplace=True)\n",
    "\n",
    "\n",
    "outlets_clean.to_csv('outlets_clean.csv', index=False)\n",
    "data.to_csv('loaded.csv', index=False)"
   ]
  },
  {
   "cell_type": "code",
   "execution_count": 64,
   "metadata": {},
   "outputs": [
    {
     "name": "stdout",
     "output_type": "stream",
     "text": [
      "[<NA> 1 4 ... 10424 10425 10426]\n"
     ]
    }
   ],
   "source": [
    "print(data.outlet_clean_id.unique())"
   ]
  },
  {
   "cell_type": "code",
   "execution_count": 65,
   "metadata": {},
   "outputs": [
    {
     "data": {
      "text/html": [
       "<div>\n",
       "<style scoped>\n",
       "    .dataframe tbody tr th:only-of-type {\n",
       "        vertical-align: middle;\n",
       "    }\n",
       "\n",
       "    .dataframe tbody tr th {\n",
       "        vertical-align: top;\n",
       "    }\n",
       "\n",
       "    .dataframe thead th {\n",
       "        text-align: right;\n",
       "    }\n",
       "</style>\n",
       "<table border=\"1\" class=\"dataframe\">\n",
       "  <thead>\n",
       "    <tr style=\"text-align: right;\">\n",
       "      <th></th>\n",
       "      <th>Торг_точка_чистый_адрес</th>\n",
       "    </tr>\n",
       "  </thead>\n",
       "  <tbody>\n",
       "    <tr>\n",
       "      <th>0</th>\n",
       "      <td>п.Глубокий, ул.Артёма 141</td>\n",
       "    </tr>\n",
       "    <tr>\n",
       "      <th>1</th>\n",
       "      <td>-</td>\n",
       "    </tr>\n",
       "    <tr>\n",
       "      <th>2</th>\n",
       "      <td>346385, Ростовская обл, Красносулинский р-н, Г...</td>\n",
       "    </tr>\n",
       "  </tbody>\n",
       "</table>\n",
       "</div>"
      ],
      "text/plain": [
       "                             Торг_точка_чистый_адрес\n",
       "0                          п.Глубокий, ул.Артёма 141\n",
       "1                                                  -\n",
       "2  346385, Ростовская обл, Красносулинский р-н, Г..."
      ]
     },
     "execution_count": 65,
     "metadata": {},
     "output_type": "execute_result"
    }
   ],
   "source": [
    "outlets_clean.head(3)"
   ]
  },
  {
   "cell_type": "code",
   "execution_count": 66,
   "metadata": {},
   "outputs": [
    {
     "data": {
      "text/html": [
       "<div>\n",
       "<style scoped>\n",
       "    .dataframe tbody tr th:only-of-type {\n",
       "        vertical-align: middle;\n",
       "    }\n",
       "\n",
       "    .dataframe tbody tr th {\n",
       "        vertical-align: top;\n",
       "    }\n",
       "\n",
       "    .dataframe thead th {\n",
       "        text-align: right;\n",
       "    }\n",
       "</style>\n",
       "<table border=\"1\" class=\"dataframe\">\n",
       "  <thead>\n",
       "    <tr style=\"text-align: right;\">\n",
       "      <th></th>\n",
       "      <th>Город дистрибьютора</th>\n",
       "      <th>Торг_точка_грязная</th>\n",
       "      <th>Торг_точка_грязная_адрес</th>\n",
       "      <th>outlet_clean_id</th>\n",
       "    </tr>\n",
       "  </thead>\n",
       "  <tbody>\n",
       "    <tr>\n",
       "      <th>0</th>\n",
       "      <td>Ростов-на-Дону</td>\n",
       "      <td>ИП Гаврилов С.А.</td>\n",
       "      <td>п.Глубокий, ул.Артёма 44</td>\n",
       "      <td>&lt;NA&gt;</td>\n",
       "    </tr>\n",
       "    <tr>\n",
       "      <th>1</th>\n",
       "      <td>Ростов-на-Дону</td>\n",
       "      <td>ИП Малышева</td>\n",
       "      <td>-</td>\n",
       "      <td>1</td>\n",
       "    </tr>\n",
       "    <tr>\n",
       "      <th>2</th>\n",
       "      <td>Ростов-на-Дону</td>\n",
       "      <td>Абасян А.П. ИП</td>\n",
       "      <td>он же</td>\n",
       "      <td>&lt;NA&gt;</td>\n",
       "    </tr>\n",
       "  </tbody>\n",
       "</table>\n",
       "</div>"
      ],
      "text/plain": [
       "  Город дистрибьютора Торг_точка_грязная  Торг_точка_грязная_адрес  \\\n",
       "0      Ростов-на-Дону   ИП Гаврилов С.А.  п.Глубокий, ул.Артёма 44   \n",
       "1      Ростов-на-Дону        ИП Малышева                         -   \n",
       "2      Ростов-на-Дону     Абасян А.П. ИП                     он же   \n",
       "\n",
       "  outlet_clean_id  \n",
       "0            <NA>  \n",
       "1               1  \n",
       "2            <NA>  "
      ]
     },
     "execution_count": 66,
     "metadata": {},
     "output_type": "execute_result"
    }
   ],
   "source": [
    "data.head(3)"
   ]
  }
 ],
 "metadata": {
  "kernelspec": {
   "display_name": "Python 3",
   "language": "python",
   "name": "python3"
  },
  "language_info": {
   "codemirror_mode": {
    "name": "ipython",
    "version": 3
   },
   "file_extension": ".py",
   "mimetype": "text/x-python",
   "name": "python",
   "nbconvert_exporter": "python",
   "pygments_lexer": "ipython3",
   "version": "3.11.4"
  }
 },
 "nbformat": 4,
 "nbformat_minor": 2
}
